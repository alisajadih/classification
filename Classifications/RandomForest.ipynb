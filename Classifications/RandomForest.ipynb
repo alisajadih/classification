{
 "metadata": {
  "language_info": {
   "codemirror_mode": {
    "name": "ipython",
    "version": 3
   },
   "file_extension": ".py",
   "mimetype": "text/x-python",
   "name": "python",
   "nbconvert_exporter": "python",
   "pygments_lexer": "ipython3",
   "version": "3.8.3"
  },
  "orig_nbformat": 4,
  "kernelspec": {
   "name": "python3",
   "display_name": "Python 3.8.3 64-bit ('base': conda)"
  },
  "interpreter": {
   "hash": "dca0ade3e726a953b501b15e8e990130d2b7799f14cfd9f4271676035ebe5511"
  }
 },
 "nbformat": 4,
 "nbformat_minor": 2,
 "cells": [
  {
   "cell_type": "code",
   "execution_count": 1,
   "metadata": {},
   "outputs": [],
   "source": [
    "import numpy as np\n",
    "import pandas as pd\n",
    "import matplotlib.pyplot as plt\n",
    "from sklearn.model_selection import train_test_split\n",
    "from sklearn import metrics\n",
    "from sklearn.ensemble import RandomForestClassifier\n",
    "from sklearn.metrics import confusion_matrix, classification_report\n",
    "import pickle"
   ]
  },
  {
   "cell_type": "code",
   "execution_count": 2,
   "metadata": {},
   "outputs": [
    {
     "output_type": "execute_result",
     "data": {
      "text/plain": [
       "        Customer            Agent       SalesAgentEmailID  \\\n",
       "0          Konex    Corliss Cosme   corliss@piedpiper.com   \n",
       "1         Finjob  Rosalina Dieter  rosalina@piedpiper.com   \n",
       "2     Kinnamplus    Donn Cantrell      donn@piedpiper.com   \n",
       "4     Stanredtax  Lajuana Vencill   lajuana@piedpiper.com   \n",
       "5         Hatfan        Zane Levy      zane@piedpiper.com   \n",
       "...          ...              ...                     ...   \n",
       "7293   Treequote  Darcel Schlecht    darcel@piedpiper.com   \n",
       "7294   Ganjaflex     Reed Clapper      reed@piedpiper.com   \n",
       "7297       Inity  Darcel Schlecht    darcel@piedpiper.com   \n",
       "7298       Inity  Darcel Schlecht    darcel@piedpiper.com   \n",
       "7299     J-Texon  Rosalina Dieter  rosalina@piedpiper.com   \n",
       "\n",
       "              ContactEmailID Stage         Product  Close_Value Created Date  \\\n",
       "0           delila@konex.com   Won  GTX Plus Basic  1255.000000   2016-01-04   \n",
       "1         belinda@finjob.com   Won      MG Special    45.000000   2016-01-04   \n",
       "2       monte@kinnamplus.com  Lost      MG Special  1852.915504   2016-01-06   \n",
       "4     candice@stanredtax.com   Won     MG Advanced  3180.000000   2016-01-07   \n",
       "5           tyron@hatfan.com   Won       GTX Basic   517.000000   2016-01-08   \n",
       "...                      ...   ...             ...          ...          ...   \n",
       "7293     benny@treequote.com   Won          GTXPro  5085.000000   2017-12-31   \n",
       "7294     somer@ganjaflex.com   Won       GTX Basic   555.000000   2017-12-31   \n",
       "7297       palmira@inity.com  Lost    GTX Plus Pro  5169.000000   2017-12-31   \n",
       "7298       palmira@inity.com   Won    GTX Plus Pro  4880.000000   2017-12-31   \n",
       "7299     winston@j-texon.com   Won      MG Special    54.000000   2017-12-31   \n",
       "\n",
       "     Close Date  \n",
       "0    2016-05-24  \n",
       "1    2016-11-02  \n",
       "2    2016-12-07  \n",
       "4    2016-01-31  \n",
       "5    2016-12-08  \n",
       "...         ...  \n",
       "7293 2018-01-16  \n",
       "7294 2018-08-29  \n",
       "7297 2018-07-10  \n",
       "7298 2018-02-06  \n",
       "7299 2019-12-04  \n",
       "\n",
       "[5711 rows x 9 columns]"
      ],
      "text/html": "<div>\n<style scoped>\n    .dataframe tbody tr th:only-of-type {\n        vertical-align: middle;\n    }\n\n    .dataframe tbody tr th {\n        vertical-align: top;\n    }\n\n    .dataframe thead th {\n        text-align: right;\n    }\n</style>\n<table border=\"1\" class=\"dataframe\">\n  <thead>\n    <tr style=\"text-align: right;\">\n      <th></th>\n      <th>Customer</th>\n      <th>Agent</th>\n      <th>SalesAgentEmailID</th>\n      <th>ContactEmailID</th>\n      <th>Stage</th>\n      <th>Product</th>\n      <th>Close_Value</th>\n      <th>Created Date</th>\n      <th>Close Date</th>\n    </tr>\n  </thead>\n  <tbody>\n    <tr>\n      <th>0</th>\n      <td>Konex</td>\n      <td>Corliss Cosme</td>\n      <td>corliss@piedpiper.com</td>\n      <td>delila@konex.com</td>\n      <td>Won</td>\n      <td>GTX Plus Basic</td>\n      <td>1255.000000</td>\n      <td>2016-01-04</td>\n      <td>2016-05-24</td>\n    </tr>\n    <tr>\n      <th>1</th>\n      <td>Finjob</td>\n      <td>Rosalina Dieter</td>\n      <td>rosalina@piedpiper.com</td>\n      <td>belinda@finjob.com</td>\n      <td>Won</td>\n      <td>MG Special</td>\n      <td>45.000000</td>\n      <td>2016-01-04</td>\n      <td>2016-11-02</td>\n    </tr>\n    <tr>\n      <th>2</th>\n      <td>Kinnamplus</td>\n      <td>Donn Cantrell</td>\n      <td>donn@piedpiper.com</td>\n      <td>monte@kinnamplus.com</td>\n      <td>Lost</td>\n      <td>MG Special</td>\n      <td>1852.915504</td>\n      <td>2016-01-06</td>\n      <td>2016-12-07</td>\n    </tr>\n    <tr>\n      <th>4</th>\n      <td>Stanredtax</td>\n      <td>Lajuana Vencill</td>\n      <td>lajuana@piedpiper.com</td>\n      <td>candice@stanredtax.com</td>\n      <td>Won</td>\n      <td>MG Advanced</td>\n      <td>3180.000000</td>\n      <td>2016-01-07</td>\n      <td>2016-01-31</td>\n    </tr>\n    <tr>\n      <th>5</th>\n      <td>Hatfan</td>\n      <td>Zane Levy</td>\n      <td>zane@piedpiper.com</td>\n      <td>tyron@hatfan.com</td>\n      <td>Won</td>\n      <td>GTX Basic</td>\n      <td>517.000000</td>\n      <td>2016-01-08</td>\n      <td>2016-12-08</td>\n    </tr>\n    <tr>\n      <th>...</th>\n      <td>...</td>\n      <td>...</td>\n      <td>...</td>\n      <td>...</td>\n      <td>...</td>\n      <td>...</td>\n      <td>...</td>\n      <td>...</td>\n      <td>...</td>\n    </tr>\n    <tr>\n      <th>7293</th>\n      <td>Treequote</td>\n      <td>Darcel Schlecht</td>\n      <td>darcel@piedpiper.com</td>\n      <td>benny@treequote.com</td>\n      <td>Won</td>\n      <td>GTXPro</td>\n      <td>5085.000000</td>\n      <td>2017-12-31</td>\n      <td>2018-01-16</td>\n    </tr>\n    <tr>\n      <th>7294</th>\n      <td>Ganjaflex</td>\n      <td>Reed Clapper</td>\n      <td>reed@piedpiper.com</td>\n      <td>somer@ganjaflex.com</td>\n      <td>Won</td>\n      <td>GTX Basic</td>\n      <td>555.000000</td>\n      <td>2017-12-31</td>\n      <td>2018-08-29</td>\n    </tr>\n    <tr>\n      <th>7297</th>\n      <td>Inity</td>\n      <td>Darcel Schlecht</td>\n      <td>darcel@piedpiper.com</td>\n      <td>palmira@inity.com</td>\n      <td>Lost</td>\n      <td>GTX Plus Pro</td>\n      <td>5169.000000</td>\n      <td>2017-12-31</td>\n      <td>2018-07-10</td>\n    </tr>\n    <tr>\n      <th>7298</th>\n      <td>Inity</td>\n      <td>Darcel Schlecht</td>\n      <td>darcel@piedpiper.com</td>\n      <td>palmira@inity.com</td>\n      <td>Won</td>\n      <td>GTX Plus Pro</td>\n      <td>4880.000000</td>\n      <td>2017-12-31</td>\n      <td>2018-02-06</td>\n    </tr>\n    <tr>\n      <th>7299</th>\n      <td>J-Texon</td>\n      <td>Rosalina Dieter</td>\n      <td>rosalina@piedpiper.com</td>\n      <td>winston@j-texon.com</td>\n      <td>Won</td>\n      <td>MG Special</td>\n      <td>54.000000</td>\n      <td>2017-12-31</td>\n      <td>2019-12-04</td>\n    </tr>\n  </tbody>\n</table>\n<p>5711 rows × 9 columns</p>\n</div>"
     },
     "metadata": {},
     "execution_count": 2
    }
   ],
   "source": [
    "data = pd.read_excel('../dataset.xls')\n",
    "data.drop('Unnamed: 0', axis = 1, inplace = True)\n",
    "close_value_mean =data['Close_Value'].mean()\n",
    "data['Close_Value'].fillna(close_value_mean, inplace = True)\n",
    "index_names = data[data['Stage'] == 'In Progress'].index\n",
    "data.drop(index_names , inplace=True)\n",
    "data"
   ]
  },
  {
   "cell_type": "code",
   "execution_count": 3,
   "metadata": {},
   "outputs": [],
   "source": [
    "data['Stage'] = data['Stage'].astype('category')\n",
    "data['Customer'] = data['Customer'].astype('category')\n",
    "data['Agent'] = data['Agent'].astype('category')\n",
    "data['SalesAgentEmailID'] = data['SalesAgentEmailID'].astype('category')\n",
    "data['ContactEmailID'] = data['ContactEmailID'].astype('category')\n",
    "data['Product'] = data['Product'].astype('category')"
   ]
  },
  {
   "cell_type": "code",
   "execution_count": 4,
   "metadata": {},
   "outputs": [],
   "source": [
    "data['Stage']=data['Stage'].cat.codes\n",
    "data['Customer']=data['Customer'].cat.codes\n",
    "data['Agent']=data['Agent'].cat.codes\n",
    "data['SalesAgentEmailID']=data['SalesAgentEmailID'].cat.codes\n",
    "data['ContactEmailID']=data['ContactEmailID'].cat.codes\n",
    "data['Product']=data['Product'].cat.codes"
   ]
  },
  {
   "cell_type": "code",
   "execution_count": 5,
   "metadata": {},
   "outputs": [],
   "source": [
    "data['Created Date'] = data['Created Date'].astype(int)\n",
    "data['Close Date'] = data['Close Date'].astype(int)"
   ]
  },
  {
   "cell_type": "code",
   "execution_count": 6,
   "metadata": {},
   "outputs": [],
   "source": [
    "model = RandomForestClassifier()"
   ]
  },
  {
   "cell_type": "code",
   "execution_count": 7,
   "metadata": {},
   "outputs": [],
   "source": [
    "X = data.drop('Stage' , axis=1)\n",
    "y = data['Stage']\n",
    "X_train, X_test, y_train, y_test = train_test_split(X, y, test_size=0.15, random_state=1) # 85% training and 15% test"
   ]
  },
  {
   "cell_type": "code",
   "execution_count": 8,
   "metadata": {},
   "outputs": [],
   "source": [
    "classifired_data = model.fit(X_train,y_train)"
   ]
  },
  {
   "cell_type": "code",
   "execution_count": 9,
   "metadata": {},
   "outputs": [],
   "source": [
    "f = open('RandomForest.pickle', 'wb+')\n",
    "pickle.dump(classifired_data, f)\n",
    "f.close()"
   ]
  },
  {
   "cell_type": "code",
   "execution_count": 10,
   "metadata": {},
   "outputs": [
    {
     "output_type": "execute_result",
     "data": {
      "text/plain": [
       "array([1, 1, 0, 1, 1, 1, 1, 1, 1, 1, 1, 1, 1, 1, 0, 1, 1, 1, 1, 1, 1, 1,\n",
       "       1, 1, 1, 0, 1, 1, 0, 1, 1, 1, 1, 0, 0, 1, 1, 1, 1, 1, 1, 0, 1, 1,\n",
       "       1, 0, 1, 0, 1, 1, 1, 1, 1, 1, 0, 1, 1, 1, 1, 0, 1, 1, 1, 1, 0, 1,\n",
       "       1, 1, 1, 1, 1, 1, 1, 1, 1, 1, 0, 1, 1, 1, 0, 1, 1, 0, 1, 1, 1, 1,\n",
       "       1, 1, 1, 1, 1, 1, 0, 1, 1, 1, 0, 1, 0, 1, 1, 1, 1, 1, 1, 0, 0, 0,\n",
       "       1, 1, 0, 0, 0, 1, 1, 1, 1, 1, 1, 1, 1, 1, 1, 1, 0, 1, 1, 1, 1, 1,\n",
       "       1, 0, 1, 1, 1, 0, 1, 0, 1, 1, 1, 1, 0, 0, 0, 1, 0, 1, 0, 1, 1, 1,\n",
       "       1, 1, 1, 0, 0, 1, 0, 1, 1, 1, 0, 1, 1, 1, 1, 0, 1, 0, 1, 1, 1, 1,\n",
       "       0, 1, 1, 1, 1, 0, 1, 0, 1, 0, 1, 1, 1, 1, 0, 0, 1, 1, 0, 1, 1, 1,\n",
       "       1, 1, 1, 1, 1, 1, 1, 1, 1, 1, 1, 1, 0, 0, 1, 0, 1, 0, 1, 1, 1, 1,\n",
       "       1, 1, 1, 1, 0, 0, 1, 1, 1, 0, 1, 1, 1, 1, 0, 1, 1, 1, 1, 1, 1, 0,\n",
       "       1, 1, 0, 1, 1, 0, 1, 1, 1, 1, 1, 1, 1, 0, 1, 1, 1, 1, 1, 0, 1, 1,\n",
       "       0, 1, 1, 1, 0, 0, 1, 1, 1, 0, 1, 1, 1, 1, 1, 1, 1, 0, 0, 1, 1, 1,\n",
       "       0, 1, 1, 0, 1, 1, 1, 0, 1, 1, 1, 0, 1, 1, 1, 0, 1, 1, 0, 1, 0, 1,\n",
       "       0, 0, 1, 0, 0, 0, 0, 1, 1, 1, 1, 0, 1, 1, 0, 1, 0, 1, 1, 1, 1, 1,\n",
       "       0, 1, 1, 0, 0, 1, 1, 0, 1, 1, 1, 1, 1, 1, 1, 1, 1, 1, 1, 1, 1, 1,\n",
       "       1, 1, 1, 1, 0, 0, 1, 1, 1, 1, 1, 1, 1, 1, 0, 0, 0, 1, 1, 1, 1, 1,\n",
       "       0, 0, 1, 1, 1, 1, 1, 1, 0, 0, 0, 1, 1, 0, 0, 0, 0, 1, 0, 0, 1, 1,\n",
       "       0, 1, 0, 1, 1, 0, 1, 1, 1, 1, 0, 1, 0, 1, 0, 1, 0, 0, 0, 1, 1, 0,\n",
       "       1, 0, 1, 1, 1, 0, 1, 0, 0, 1, 1, 1, 1, 1, 1, 1, 1, 1, 1, 1, 1, 1,\n",
       "       0, 1, 1, 1, 1, 1, 1, 1, 1, 1, 1, 1, 1, 1, 0, 1, 0, 1, 1, 0, 1, 0,\n",
       "       1, 1, 1, 0, 0, 0, 1, 1, 1, 1, 1, 1, 1, 1, 1, 1, 0, 1, 1, 1, 1, 1,\n",
       "       1, 1, 1, 1, 1, 0, 1, 0, 1, 1, 0, 1, 1, 1, 1, 1, 1, 1, 1, 1, 1, 1,\n",
       "       1, 0, 0, 1, 1, 1, 1, 1, 0, 1, 1, 1, 0, 1, 0, 1, 1, 1, 1, 0, 1, 1,\n",
       "       1, 0, 1, 0, 1, 0, 1, 0, 0, 1, 1, 1, 1, 1, 1, 1, 1, 1, 1, 1, 1, 1,\n",
       "       0, 0, 1, 1, 0, 1, 1, 1, 1, 0, 0, 1, 0, 1, 1, 1, 0, 1, 1, 1, 1, 1,\n",
       "       1, 1, 1, 1, 0, 1, 1, 1, 0, 1, 1, 1, 1, 0, 1, 0, 1, 1, 1, 1, 0, 1,\n",
       "       1, 1, 1, 1, 1, 1, 1, 1, 1, 1, 0, 1, 1, 1, 1, 1, 1, 0, 1, 0, 1, 1,\n",
       "       0, 1, 1, 1, 1, 1, 0, 0, 1, 0, 1, 1, 1, 0, 1, 1, 0, 1, 0, 1, 1, 0,\n",
       "       0, 1, 0, 1, 1, 1, 0, 0, 1, 1, 1, 1, 1, 0, 1, 0, 1, 0, 1, 1, 1, 1,\n",
       "       1, 1, 1, 1, 1, 1, 1, 1, 1, 1, 1, 1, 0, 1, 0, 0, 1, 1, 0, 1, 1, 1,\n",
       "       1, 1, 1, 1, 1, 1, 1, 1, 1, 1, 1, 1, 1, 0, 1, 1, 1, 1, 1, 1, 1, 1,\n",
       "       1, 1, 1, 1, 1, 0, 0, 1, 1, 1, 1, 1, 1, 1, 1, 1, 1, 1, 1, 1, 1, 1,\n",
       "       0, 0, 1, 1, 1, 1, 1, 1, 1, 1, 0, 0, 0, 1, 1, 1, 0, 1, 1, 1, 0, 1,\n",
       "       1, 1, 1, 1, 1, 0, 1, 0, 0, 1, 0, 0, 0, 1, 1, 0, 1, 0, 1, 1, 1, 1,\n",
       "       1, 0, 1, 1, 1, 0, 0, 1, 1, 1, 0, 1, 0, 1, 1, 1, 1, 1, 0, 1, 1, 1,\n",
       "       1, 0, 1, 1, 1, 1, 1, 1, 1, 1, 1, 1, 1, 1, 1, 1, 1, 0, 1, 1, 0, 0,\n",
       "       0, 1, 1, 0, 1, 1, 0, 1, 0, 1, 1, 1, 1, 0, 1, 1, 1, 1, 1, 1, 1, 1,\n",
       "       1, 0, 0, 1, 1, 1, 1, 1, 0, 0, 1, 1, 1, 1, 1, 1, 1, 1, 1, 1, 0],\n",
       "      dtype=int8)"
      ]
     },
     "metadata": {},
     "execution_count": 10
    }
   ],
   "source": [
    "y_pred = classifired_data.predict(X_test)\n",
    "y_pred"
   ]
  },
  {
   "cell_type": "code",
   "execution_count": 11,
   "metadata": {},
   "outputs": [
    {
     "output_type": "stream",
     "name": "stdout",
     "text": [
      "Accuracy: 0.8471411901983664\nF1: 0.8148280099293237\n"
     ]
    }
   ],
   "source": [
    "print(\"Accuracy:\",metrics.accuracy_score(y_test, y_pred))\n",
    "print(\"F1:\",metrics.f1_score(y_test, y_pred,average='macro'))"
   ]
  },
  {
   "cell_type": "code",
   "execution_count": 12,
   "metadata": {},
   "outputs": [
    {
     "output_type": "stream",
     "name": "stdout",
     "text": [
      "              precision    recall  f1-score   support\n\n           0       0.88      0.64      0.74       289\n           1       0.84      0.95      0.89       568\n\n    accuracy                           0.85       857\n   macro avg       0.86      0.80      0.81       857\nweighted avg       0.85      0.85      0.84       857\n\n[[184 105]\n [ 26 542]]\n"
     ]
    }
   ],
   "source": [
    "print(classification_report(y_test,y_pred))\n",
    "print(confusion_matrix(y_test,y_pred))"
   ]
  },
  {
   "cell_type": "code",
   "execution_count": null,
   "metadata": {},
   "outputs": [],
   "source": []
  }
 ]
}