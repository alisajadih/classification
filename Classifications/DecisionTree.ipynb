{
 "metadata": {
  "language_info": {
   "codemirror_mode": {
    "name": "ipython",
    "version": 3
   },
   "file_extension": ".py",
   "mimetype": "text/x-python",
   "name": "python",
   "nbconvert_exporter": "python",
   "pygments_lexer": "ipython3",
   "version": "3.8.3"
  },
  "orig_nbformat": 4,
  "kernelspec": {
   "name": "python3",
   "display_name": "Python 3.8.3 64-bit ('base': conda)"
  },
  "interpreter": {
   "hash": "dca0ade3e726a953b501b15e8e990130d2b7799f14cfd9f4271676035ebe5511"
  }
 },
 "nbformat": 4,
 "nbformat_minor": 2,
 "cells": [
  {
   "cell_type": "code",
   "execution_count": 1,
   "metadata": {},
   "outputs": [],
   "source": [
    "import numpy as np\n",
    "import pandas as pd\n",
    "import matplotlib.pyplot as plt\n",
    "from sklearn import tree\n",
    "from sklearn.model_selection import train_test_split\n",
    "from sklearn import metrics\n",
    "from sklearn.metrics import confusion_matrix, classification_report"
   ]
  },
  {
   "cell_type": "code",
   "execution_count": 2,
   "metadata": {},
   "outputs": [
    {
     "output_type": "execute_result",
     "data": {
      "text/plain": [
       "                       Customer            Agent       SalesAgentEmailID  \\\n",
       "0                         Konex    Corliss Cosme   corliss@piedpiper.com   \n",
       "1                        Finjob  Rosalina Dieter  rosalina@piedpiper.com   \n",
       "2                    Kinnamplus    Donn Cantrell      donn@piedpiper.com   \n",
       "3  Genco Pura Olive Oil Company   James Ascencio     james@piedpiper.com   \n",
       "4                    Stanredtax  Lajuana Vencill   lajuana@piedpiper.com   \n",
       "\n",
       "                        ContactEmailID        Stage         Product  \\\n",
       "0                     delila@konex.com          Won  GTX Plus Basic   \n",
       "1                   belinda@finjob.com          Won      MG Special   \n",
       "2                 monte@kinnamplus.com         Lost      MG Special   \n",
       "3  karole@gencopuraoliveoilcompany.com  In Progress     MG Advanced   \n",
       "4               candice@stanredtax.com          Won     MG Advanced   \n",
       "\n",
       "   Close_Value Created Date Close Date  \n",
       "0  1255.000000   2016-01-04 2016-05-24  \n",
       "1    45.000000   2016-01-04 2016-11-02  \n",
       "2  1852.915504   2016-01-06 2016-12-07  \n",
       "3  1054.000000   2016-01-06 2016-09-11  \n",
       "4  3180.000000   2016-01-07 2016-01-31  "
      ],
      "text/html": "<div>\n<style scoped>\n    .dataframe tbody tr th:only-of-type {\n        vertical-align: middle;\n    }\n\n    .dataframe tbody tr th {\n        vertical-align: top;\n    }\n\n    .dataframe thead th {\n        text-align: right;\n    }\n</style>\n<table border=\"1\" class=\"dataframe\">\n  <thead>\n    <tr style=\"text-align: right;\">\n      <th></th>\n      <th>Customer</th>\n      <th>Agent</th>\n      <th>SalesAgentEmailID</th>\n      <th>ContactEmailID</th>\n      <th>Stage</th>\n      <th>Product</th>\n      <th>Close_Value</th>\n      <th>Created Date</th>\n      <th>Close Date</th>\n    </tr>\n  </thead>\n  <tbody>\n    <tr>\n      <th>0</th>\n      <td>Konex</td>\n      <td>Corliss Cosme</td>\n      <td>corliss@piedpiper.com</td>\n      <td>delila@konex.com</td>\n      <td>Won</td>\n      <td>GTX Plus Basic</td>\n      <td>1255.000000</td>\n      <td>2016-01-04</td>\n      <td>2016-05-24</td>\n    </tr>\n    <tr>\n      <th>1</th>\n      <td>Finjob</td>\n      <td>Rosalina Dieter</td>\n      <td>rosalina@piedpiper.com</td>\n      <td>belinda@finjob.com</td>\n      <td>Won</td>\n      <td>MG Special</td>\n      <td>45.000000</td>\n      <td>2016-01-04</td>\n      <td>2016-11-02</td>\n    </tr>\n    <tr>\n      <th>2</th>\n      <td>Kinnamplus</td>\n      <td>Donn Cantrell</td>\n      <td>donn@piedpiper.com</td>\n      <td>monte@kinnamplus.com</td>\n      <td>Lost</td>\n      <td>MG Special</td>\n      <td>1852.915504</td>\n      <td>2016-01-06</td>\n      <td>2016-12-07</td>\n    </tr>\n    <tr>\n      <th>3</th>\n      <td>Genco Pura Olive Oil Company</td>\n      <td>James Ascencio</td>\n      <td>james@piedpiper.com</td>\n      <td>karole@gencopuraoliveoilcompany.com</td>\n      <td>In Progress</td>\n      <td>MG Advanced</td>\n      <td>1054.000000</td>\n      <td>2016-01-06</td>\n      <td>2016-09-11</td>\n    </tr>\n    <tr>\n      <th>4</th>\n      <td>Stanredtax</td>\n      <td>Lajuana Vencill</td>\n      <td>lajuana@piedpiper.com</td>\n      <td>candice@stanredtax.com</td>\n      <td>Won</td>\n      <td>MG Advanced</td>\n      <td>3180.000000</td>\n      <td>2016-01-07</td>\n      <td>2016-01-31</td>\n    </tr>\n  </tbody>\n</table>\n</div>"
     },
     "metadata": {},
     "execution_count": 2
    }
   ],
   "source": [
    "data = pd.read_excel('../dataset.xls')\n",
    "data.drop('Unnamed: 0', axis = 1, inplace = True)\n",
    "close_value_mean =data['Close_Value'].mean()\n",
    "data['Close_Value'].fillna(close_value_mean, inplace = True)\n",
    "data.head()"
   ]
  },
  {
   "cell_type": "code",
   "execution_count": 3,
   "metadata": {},
   "outputs": [
    {
     "output_type": "execute_result",
     "data": {
      "text/plain": [
       "Customer                   category\n",
       "Agent                      category\n",
       "SalesAgentEmailID          category\n",
       "ContactEmailID             category\n",
       "Stage                      category\n",
       "Product                    category\n",
       "Close_Value                 float64\n",
       "Created Date         datetime64[ns]\n",
       "Close Date           datetime64[ns]\n",
       "dtype: object"
      ]
     },
     "metadata": {},
     "execution_count": 3
    }
   ],
   "source": [
    "data['Stage'] = data['Stage'].astype('category')\n",
    "data['Customer'] = data['Customer'].astype('category')\n",
    "data['Agent'] = data['Agent'].astype('category')\n",
    "data['SalesAgentEmailID'] = data['SalesAgentEmailID'].astype('category')\n",
    "data['ContactEmailID'] = data['ContactEmailID'].astype('category')\n",
    "data['Product'] = data['Product'].astype('category')\n",
    "\n",
    "data.dtypes\n",
    "\n"
   ]
  },
  {
   "cell_type": "code",
   "execution_count": 4,
   "metadata": {},
   "outputs": [],
   "source": [
    "data['Stage']=data['Stage'].cat.codes\n",
    "data['Customer']=data['Customer'].cat.codes\n",
    "data['Agent']=data['Agent'].cat.codes\n",
    "data['SalesAgentEmailID']=data['SalesAgentEmailID'].cat.codes\n",
    "data['ContactEmailID']=data['ContactEmailID'].cat.codes\n",
    "data['Product']=data['Product'].cat.codes"
   ]
  },
  {
   "cell_type": "code",
   "execution_count": 6,
   "metadata": {},
   "outputs": [],
   "source": [
    "data['Created Date'] = data['Created Date'].astype(int)\n",
    "data['Close Date'] = data['Close Date'].astype(int)"
   ]
  },
  {
   "cell_type": "code",
   "execution_count": 7,
   "metadata": {},
   "outputs": [],
   "source": [
    "# droped_data = data.drop(['Stage', 'Created Date' , 'Close Date'],axis=1)\n",
    "# data"
   ]
  },
  {
   "cell_type": "code",
   "execution_count": 7,
   "metadata": {},
   "outputs": [],
   "source": [
    "X = data.drop('Stage' , axis=1)\n",
    "y = data['Stage']\n",
    "X_train, X_test, y_train, y_test = train_test_split(X, y, test_size=0.15, random_state=1) # 85% training and 15% test\n"
   ]
  },
  {
   "cell_type": "code",
   "execution_count": 8,
   "metadata": {},
   "outputs": [],
   "source": [
    "model = tree.DecisionTreeClassifier() \n",
    "classifired_data = model.fit(X_train, y_train)"
   ]
  },
  {
   "cell_type": "code",
   "execution_count": 24,
   "metadata": {},
   "outputs": [],
   "source": [
    "# tree.plot_tree(classifired_data)"
   ]
  },
  {
   "cell_type": "code",
   "execution_count": 9,
   "metadata": {},
   "outputs": [],
   "source": [
    "y_pred = classifired_data.predict(X_test)"
   ]
  },
  {
   "cell_type": "code",
   "execution_count": 10,
   "metadata": {},
   "outputs": [
    {
     "output_type": "stream",
     "name": "stdout",
     "text": [
      "Accuracy: 0.6760683760683761\nF1: 0.6204881267431744\n"
     ]
    }
   ],
   "source": [
    "print(\"Accuracy:\",metrics.accuracy_score(y_test, y_pred))\n",
    "print(\"F1:\",metrics.f1_score(y_test, y_pred,average='macro'))"
   ]
  },
  {
   "cell_type": "code",
   "execution_count": 12,
   "metadata": {},
   "outputs": [
    {
     "output_type": "stream",
     "name": "stdout",
     "text": [
      "              precision    recall  f1-score   support\n\n           0       0.49      0.55      0.52       300\n           1       0.48      0.45      0.46       309\n           2       0.89      0.87      0.88       561\n\n    accuracy                           0.68      1170\n   macro avg       0.62      0.62      0.62      1170\nweighted avg       0.68      0.68      0.68      1170\n\n[[164 113  23]\n [135 138  36]\n [ 37  35 489]]\n"
     ]
    }
   ],
   "source": [
    "print(classification_report(y_test,y_pred))\n",
    "print(confusion_matrix(y_test,y_pred))"
   ]
  },
  {
   "cell_type": "code",
   "execution_count": null,
   "metadata": {},
   "outputs": [],
   "source": []
  }
 ]
}